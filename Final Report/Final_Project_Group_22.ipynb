{
 "cells": [
  {
   "cell_type": "markdown",
   "metadata": {},
   "source": [
    "# Sustainable Energy and Price Elasticity: A Municipality-Centric Exploration of Energy Consumption Patterns.\n",
    "\n",
    "### ***Project Group 22***\n",
    "\n",
    "<br>\n",
    "\n",
    "<div style=\"float: left; margin-right: 20px;\">\n",
    "    \n",
    "| Members               | Student Numbers |\n",
    "|-----------------------|-----------------|\n",
    "| Leander Barendse      | 4965051         |\n",
    "| Bram Hendriksz        | 6092543         |\n",
    "| Naut Smeets           | 5143632         |\n",
    "| Maaike van Schaick    | 5178401         |\n",
    "| Adriaan Zoetmulder    | 6079946         |\n",
    "\n",
    "</div>\n",
    "\n",
    "\n",
    "\n",
    "GitHub: https://github.com/adriaanzoetmulder/TIL6010-LabAssignments/tree/16c60aa7f2335af3d2cf81e7bcc659a3568d971d/Final%20Report"
   ]
  },
  {
   "attachments": {},
   "cell_type": "markdown",
   "metadata": {},
   "source": [
    "# Contribution Statement\n",
    "\n",
    "**Bram Hendriksz**: Wrote the code for renewable energy: data processing as well as for visualization. Furthermore, Bram contributed on writing text for the overall analysis. \n",
    "\n",
    "**Naut Smeets**: Wrote the code for renewable energy: data processing as well as for visualization. Furthermore, Naut contributed on writing text for the overall analysis. \n",
    "\n",
    "**Adriaan Zoetmulder**: Wrote the code for gas and electricity prices: data processing as well as for visualization. Furthermore, Adriaan contributed on writing text for the overall analysis. \n",
    "\n",
    "**Leander Barendse**: Wrote the code for total energy usage: data processing as well as for visualization. Furthermore, Leander contributed on writing text for the introduction.\n",
    "\n",
    "**Maaike van Schaick**: Wrote the code for total energy usage: data processing as well as for visualization. Furthermore, Maaike contributed on writing text for the conclusion and for the limitations and further research."
   ]
  },
  {
   "attachments": {},
   "cell_type": "markdown",
   "metadata": {},
   "source": [
    "# 1. Introduction \n",
    "\n",
    "In the ever-evolving landscape of energy markets, the interaction between price levels and consumption is a well-known topic of research, with economic theory often positing that cost changes in energy supply have a significant impact on consumption quantities (Rassenti et al., 2003; Ramazanov). et al., 2018). This study is limited to the Dutch energy market, with the aim of unraveling the dynamics of energy consumption in response to price fluctuations and investigating how these dynamics manifest themselves in different municipalities. In particular, we aim to distinguish the role of renewable energy within this framework, assuming regional differences in energy consumption and sustainability efforts.\n",
    "\n",
    "The primary objective of this research is to analyze the impact of electricity and gas price fluctuations on total energy consumption and the adoption of renewable energy, and how this varies between Dutch municipalities over a timespan from 2010 to 2021. For the purposes of this study, \"adoption of renewable energy\" is defined as the percentage of total energy usage that is derived from renewable sources. This metric will allow for a comparative analysis of how municipalities are transitioning towards sustainable energy in response to price signals in the energy market.\n",
    "\n",
    "To clarify this, we will use graphical representations of price and consumption data, together with animations to illustrate the variations within each municipality. For the adoption of renewable energy, the research will be supported by graphs showing the upward trajectory of renewable energy sources and animations showing the diversity between municipalities. In addition the increasing rate of adoption is shown using a graphical representation of the percentage increase."
   ]
  },
  {
   "attachments": {},
   "cell_type": "markdown",
   "metadata": {},
   "source": [
    "# 2. Research Objective & SMART Criteria\n",
    "\n",
    "## 2.1. Main objective\n",
    "\n",
    "### \"What is the impact of electricity and gas price fluctuations on total energy consumption, the adoption of renewable energy, and how does this vary between Dutch municipalities over a time span from 2010 to 2021?\"\n",
    "\n",
    "This research can contribute to provide policymakers with insights into the relationship between energy prices,  consumption, and the adoption of renewable energy at national and local level. Performed comprehensive, recommendations can be formulated for more effective energy policies, encompassing measures for energy efficiency, promotion of sustainable energy sources, and awareness campaigns. Additionally, the study focuses on identifying opportunities for sustainable energy development. By understanding how price changes influence energy behavior, governments can develop strategies to promote sustainable energy sources and facilitate the transition to greener energy practices.\n",
    "\n",
    "\n",
    "## 2.2. SMART Criteria\n",
    "\n",
    "<span style=\"font-size:20px;\">**S**</span>pecific: This question will focus on how the price changes affect the consumption of energy and gas as well as the adoption of renewable energy within the Netherlands and between municipalities.\n",
    "\n",
    "<span style=\"font-size:20px;\">**M**</span>easurable: This objective will be measured by collecting data on electricity and gas prices, total energy consumption, and the presence of renewable energy. Data analysis can quantify the impact.\n",
    "\n",
    "<span style=\"font-size:20px;\">**A**</span>chievable: Different datasets will be used, gathered over the latest years by different data collecting institutions (CLO, CBS, Klimaatmonitor Databank).\n",
    "\n",
    "<span style=\"font-size:20px;\">**R**</span>elevant: Relevant because it addresses a significant topic in the field of energy economics and environmental sustainability. Understanding the impact of price fluctuations and sustainable energy adoption on energy consumption is crucial for policymakers and energy stakeholders.\n",
    "\n",
    "<span style=\"font-size:20px;\">**T**</span>ime-Bound: Investigates the impact of fluctuations in prices and use of energy from 2010 to 2021. Year 2010 is the earliest year where all the founded data sets correspond. The year 2022 and 2023 are left out of the analysis since data is not yet available for gathered or available yet. "
   ]
  },
  {
   "attachments": {},
   "cell_type": "markdown",
   "metadata": {},
   "source": [
    "# 3. Data Used\n",
    "\n",
    "All data sets can be found in https://github.com/adriaanzoetmulder/TIL6010-LabAssignments/tree/9a67aae972e06de2d2ced760204b6253a6359b15/Final%20Report/Data%20Sources\n",
    "\n",
    "**Data Source 1 -** https://klimaatmonitor.databank.nl/Jive/ (“Klimaatmonitor”):\n",
    "- Total energy usage - Netherlands (2010-2021) \n",
    "- Total renewable energy usage - Netherlands (2010-2021) \n",
    "- Energy usage - Municipality (2010-2021) \n",
    "- Renewable energy usage - Municipality (2010-2021)\n",
    "\n",
    "**Data Source 2 -** https://opendata.cbs.nl/statline/#/CBS/nl/dataset/81309NED/table?fromstatweb (“CBS Statline”):\n",
    "- Energy and gas prices (2010-2021)\n",
    "\n",
    "This data set is used to visualize the price changes over time. The prices are considered to be transaction prices. Transaction price refers to the total price that is composed of the components for supply and network. Furthermore, VAT is levied on the entire price, thus it is also applied to the energy tax, ODE (Sustainable Energy Storage), and the rebate of energy tax.\n",
    "\n",
    "**Data Source 3 -** https://earthworks.stanford.edu/catalog/stanford-gp502yc4422  (“Boundary, Netherlands, 2015 in EarthWorks”)\n",
    "- Boundaries of the Netherlands \n",
    "\n",
    "This data set is used to define the outer boundaries of the Netherlands in order to create a graphical heat map of the Netherlands and its municipalities. \n",
    "\n",
    "**Data Source 4 -** https://service.pdok.nl/kadaster/bestuurlijkegrenzen/atom/v1_0/bestuurlijke_grenzen.xml (“Bestuurlijke Grenzen”)\n",
    "- Boundaries of the municipaliets within the Netherlands\n",
    "\n",
    "This data set is used to define the outer boundaries of the municipalities within the Netherlands in order to create a graphical heat map of the Netherlands and its municipalities. "
   ]
  },
  {
   "cell_type": "markdown",
   "metadata": {},
   "source": [
    "# 4. Data Pipeline\n",
    "\n",
    "Notebook: https://github.com/adriaanzoetmulder/TIL6010-LabAssignments/tree/14eed9afcf3b5ebbdcc68d97587d4b2fef2857f0/Final%20Report/Notebooks\n",
    "\n",
    "For this study, we have consolidated all the coding in one place to enhance accessibility. The notebook, which can be found in the GitHub link above, contains all coding including comments that describe and explain every piece of code. To ensure the figures are visualized and the hoovers are working properply, it is important to download the notebook and open it with Jupyter. The notebook is organized into two main sections and encompasses three datafiles, each serving a distinct purpose:\n",
    "\n",
    "## Datafiles\n",
    "\n",
    "- **Datafile 1:** Focuses on the total energy usage and its correlation with the fluctuations in gas and electricity prices.\n",
    "- **Datafile 2:** Covers the usage of renewable energy, its price relationship, and the patterns of adoption across the board.\n",
    "- **Datafile 3:** Provides a detailed examination of renewable and total energy consumption at the municipal level.\n",
    "\n",
    "## Notebook Sections\n",
    "\n",
    "**1. Data Processing:**\n",
    "   - In this section, we process the data from all three datafiles. This involves cleaning, transforming, and preparing the data for analysis. \n",
    "  \n",
    "**2. Graphical Visualization:**\n",
    "   - Using the processed data, this section is dedicated to creating visual representations. We construct graphs to depict energy usage and price changes over time, which aids in revealing trends and insights."
   ]
  },
  {
   "attachments": {},
   "cell_type": "markdown",
   "metadata": {},
   "source": [
    "# 5. Sub-Research Questions\n",
    "\n",
    "Some more detailed subresearch questions are formulated in order to answer the research question and test our data properly:\n",
    "\n",
    "- **SQ1**: What is the effect of electricity and gas price fluctuations on the consumption of energy and gas in the Netherlands? \n",
    "- **SQ2**: What is the impact of price fluctuations on the total energy consumption per municipality?\n",
    "- **SQ3**: What is the effect of price on the usage and adoption of renewable energy?\n",
    "- **SQ4**: What is the impact of price fluctuations on the renewable energy consumption per municipality?"
   ]
  },
  {
   "attachments": {},
   "cell_type": "markdown",
   "metadata": {},
   "source": [
    "# 6. Graphical Visualizations\n",
    "\n",
    "In the following context, graphical representations are employed to illustrate the relationship between energy prices and the consumption of gas and (renewable) energy usage. These graphs offer valuable insights into the answers to the sub-questions posed, ultimately contributing to a comprehensive understanding of the research objective. This report includes figures in the form of images (png files), however plots of all the images (including hoovers to show detailed data) are provided in the final notebook that can be found here:\n",
    "\n",
    "### Visualizations\n",
    "\n",
    "**Visualization 1 (SQ1)** – ***Line Graph:*** The total energy usage over time in relationship to the gas – and electricity prices over time in the Netherlands. This graph is used to gain insight into the total usage of electricity and look at the price movements and fluctuations over the period from 2010 to 2021.\n",
    "\n",
    "**Visualization 2 (SQ2)** – ***GIF / Animation:*** Visualization 2 illustrates the energy usage per municipality in the Netherlands. By means of a slider and color levels that display consumption, it is possible to determine what the energy consumption has been over time per municipality over the period from 2010 to 2021 in the Netherlands.\n",
    "\n",
    "**Visualization 3 (SQ3)** – ***Line Graph:*** The total renewable energy over time is graphed to explore if this relates to the gas- and electricity prices over the period from 2010 to 2021 in the Netherlands. \n",
    "\n",
    "**Visualization 4 (SQ3)** – ***Line Graph:*** The adoption rate in percenatages of renewable energy usage over the period from 2010 to 2021 in the Netherlands. This adoption rate is computed by dividing the renewable energy usage by the total energy usage. \n",
    "\n",
    "**Visualization 5 (SQ4)** – ***GIF / Animation:*** Visualization 5 illustrates the renewable energy availibilty per municipality in the Netherlands. By means of a slider and color levels that display consumption, it is possible to determine how the renewable energy production has been over time per municipality over the period from 2010 to 2022 in the Netherlands."
   ]
  },
  {
   "attachments": {},
   "cell_type": "markdown",
   "metadata": {},
   "source": [
    "## 6.1. Visualization 1 (SQ1): The total usage of Gas and Electricity and Prices over time in the Netherlands\n",
    "\n",
    "![Graph_Total_Energy_Usage-Gas_and_Electricity_Prices.png](https://raw.githubusercontent.com/adriaanzoetmulder/TIL6010-LabAssignments/main/Final%20Report/Graphs/Graph_Total_Energy_Usage-Gas_and_Electricity_Prices.png)\n",
    "\n",
    "\n",
    "The graph presented above offers insights into the relationship between total gas and electricity usage and price fluctuations in the Netherlands, spanning the years from 2010 to 2021. An analysis of this graph reveals several key findings.\n",
    "\n",
    "Firstly, with regards to gas prices, a modest upward trend is observed until 2018, followed by a substantial surge leading to 2020. However, its noteworthy that gas prices have since stabilized at a level approximately 50% higher than a decade ago. In contrast, electricity prices remained relatively stable from 2010 to 2015. Thereafter, a price drop occurs in 2015, which recovers between 2017-2019. However, in 2019, a remarkable price decline was witnessed between 2019 and 2021.\n",
    "\n",
    "Regarding energy consumption, both gas and electricity exhibit a decreasing trend, with a notable drop observed in 2013 and another significant decline occurring between 2018 and 2020. While a direct causal relationship between price and consumption cannot be conclusively established from this comparison, the data strongly suggest that the increase in gas prices, in particular, appears to exert an influence on consumption trends, ultimately contributing to the decrease in the total usage of gas and electricity.\n",
    "\n",
    "It's important to note that the data presented pertains for the Netherlands, providing an overview of the total energy consumption. In the subsequent visualization (visualization 2), a more detailed analysis of consumption at the municipal level will be presented, offering further insights into regional variations and trends in energy usage. This multi-faceted approach, examining both national and local data, enhances our understanding of energy dynamics in the Netherlands."
   ]
  },
  {
   "attachments": {},
   "cell_type": "markdown",
   "metadata": {},
   "source": [
    "## 6.2. Visualization 2 (SQ2): Energy usage in (2010 – 2021) per municipality within the Netherlands\n",
    "\n",
    "![energy_usage_animation.gif](https://raw.githubusercontent.com/adriaanzoetmulder/TIL6010-LabAssignments/main/Final%20Report/Graphs/energy_usage_animation.gif)\n",
    "\n",
    "Visualization 2 provides a comprehensive comparison of energy and gas consumption across municipalities in the Netherlands, shedding light on insights among the diverse and fragmented landscape of energy usage. In the animation above, colours indicate the amount of energy in TJ, with dark blue representing a low presence of renewables and red/orange indicating a higher presence. One of the most prominent observations is the significant variation in consumption levels across municipalities, making it challenging to discern a single overarching trend. However, some striking patterns emerge. Notably, a considerable proportion of energy and gas consumption is concentrated in the peripheral cities as well as the region of Zeeland and Groningen. This geographical concentration of consumption is an intriguing feature of the data.\n",
    "\n",
    "Overall, the data suggests a trend of decreasing energy consumption throughout the Netherlands, corresponding to visualization 1. This trend is evident both in municipalities with high energy usage and those with relatively lower consumption rates. Notably, a compelling shift occurs around 2018 and 2019, with a marked increase compared to preceding years. This temporal shift is dynamically demonstrated through the color animation in the graph. Additionally, the data reveals that municipalities in Zeeland and Groningen stand out as the least sensitive to price fluctuations. These regions maintain consistently high levels of energy consumption throughout the observed period, hinting at unique region dynamics and possibly an enhanced level of resilience to price variations. This regional contrast further underscores the complexity of energy consumption patterns within the Netherlands."
   ]
  },
  {
   "attachments": {},
   "cell_type": "markdown",
   "metadata": {},
   "source": [
    "## 6.3. Visualization 3 & 4 (SQ3): Total available renewable energy (2010-2021)\n",
    "\n",
    "![Renewable_Energy_Usage.png](https://raw.githubusercontent.com/adriaanzoetmulder/TIL6010-LabAssignments/main/Final%20Report/Graphs/Renewable_Energy_Usage.png)\n",
    "\n",
    "First, renewable energy was plotted against time. As can be clearly seen in the figure above, it follows a positive trend. Total renewable energy in the Netherlands appears to have grown almost exponentially between 2010 and 2021. As there is a continuous growth, it can be concluded that gas or electricity price changes do not influence the consumption of renewable energy. This is due to the fact that renewable energy adoption is likely driven by factors other than just price. Governmental policies, technological advancements, and increased public awareness about environmental issues are significant contributors to this growth. To further understand the scope of this growth, our study will now examine the adoption rate of renewable energy in the Netherlands, analyzing the pace at which it has been embraced. This will allow us to quantify the influence of the aforementioned external factors on the acceleration of renewable energy use and to evaluate the effectiveness of policies and social changes in fostering a greener energy landscape.\n",
    "\n",
    "![Percentage_Renewable_Energy.png](https://raw.githubusercontent.com/adriaanzoetmulder/TIL6010-LabAssignments/main/Final%20Report/Graphs/Percentage_Renewable_Energy.png)\n",
    "\n",
    "The figure above illustrates the trend of renewable energy adoption in the Netherlands over a period from 2010 to 2021. It is clear from the graph that the percentage of renewable energy sources in the energy mix has increased significantly over the years, showing a strong upward trend in renewable energy adoption. The upward curve supports the previous claim that renewable energy consumption is increasing, possibly due to factors beyond just the price of energy. The steepness of the curve in later years could be an indication of the increasing effectiveness of government policies, technological advances in the sector and increased collective environmental awareness. These external factors can accelerate renewable energy adoption, reflecting a successful transition to more sustainable energy sources."
   ]
  },
  {
   "attachments": {},
   "cell_type": "markdown",
   "metadata": {},
   "source": [
    "## 6.5. Visualization 5: Renewable energy per municipality (2010-2021)\n",
    "\n",
    "![rnew_energy_usage_animation.gif](https://raw.githubusercontent.com/adriaanzoetmulder/TIL6010-LabAssignments/main/Final%20Report/Graphs/rnew_energy_usage_animation.gif)\n",
    "\n",
    "Visualization 5 provides insights into the adoption and consumption of renewable energy across all municipalities in the Netherlands. Looking at the animation above, changes can be observed during the period from 2010 to 2021. Colours indicate the amount of energy in TJ, with dark blue representing a low presence of renewables and red/orange indicating a higher presence. Over time, there is a noticeable shift from mostly dark blue municipalities to lighter blue and even more orange areas, aligning with the overall trend towards increased renewables highlighted in the previous graphs.\n",
    "\n",
    "In the southwest of the Netherlands, some municipalities exhibit notably high renewable energy consumption. Nordic municipalities demonstrate an overall higher renewable energy rate compared to the rest of the Netherlands. Certain municipalities, particularly in the Randstad and around the Overijssel region, maintain consistent values throughout the entire period. These municipalities do not show growth in their renewable energy production and appear to be not responsive to price fluctuations. On the contrary, other municipalities seem to be growing in their renewable energy production. However, it is not evident that these municipalities experience a higher/lower growth rate during the time period. In other words, regions differ in their renewable energy production/usage, but there seems to be no perceptible regional difference in sensitivity to changes in energy prices. "
   ]
  },
  {
   "attachments": {},
   "cell_type": "markdown",
   "metadata": {},
   "source": [
    "# 7. Conclusion\n",
    "\n",
    "**What is the impact of electricity and gas price fluctuations on total energy consumption, the adoption of renewable energy, and how does this vary between Dutch municipalities over a timespan from 2010 to 2021?**\n",
    "\n",
    "Our findings indicate that, in line with existing literature, there is a negative correlation between energy prices, especially gas prices, and total energy consumption in the Netherlands (Rassenti et al., 2003; Ramazanov et al., 2018). Despite this overall trend, renewable energy use has shown remarkable and sustained growth between 2010 and 2021, unaffected by energy price fluctuations. This suggests that the drivers of renewable energy adoption extend beyond economic factors and can also include government policies, technological innovation and social commitment to the environment.\n",
    "\n",
    "Furthermore, our research on renewable energy adoption rates shows an increasing trend, coinciding with a decrease in overall energy consumption and an increase in renewable energy consumption. However, there is notable geographic diversity in energy consumption patterns. In concrete terms, municipalities such as Zeeland and Groningen show unique trends, with a consistent increase in the use of renewable energy, despite their total energy consumption being less responsive to price changes."
   ]
  },
  {
   "cell_type": "markdown",
   "metadata": {},
   "source": [
    "# 8. Limitations and further research\n",
    "\n",
    "The most notable limitation in this study is the lack of correction for other factors influencing consumption. The overall decline in energy consumption will be influenced by numerous factors beyond price, such as population size, energy efficiency, and global temperature rise. In further research, a national-level analysis over time can be conducted to examine which effects, alongside price, can account for fluctuations in energy consumption. At the regional level, also various factors can be considered to explain the differences in energy consumption between municipalities. Examples of these factors include municipal policies, the sophistication of energy infrastructure, and access to alternative energy sources. Moreover, disparities in socioeconomic factors may also influence variations in energy consumption across municipalities and need to be addressed.\n",
    "\n",
    "Another limitation, and simultaneously an possibility for further research, is that the consumption of renewable energy in this study is heavily dependent on the location of energy sources such as biomass plants. Often, the development policies for these large energy sources are not under the influence of local governments. For this research to be more of value for governments, a more detailed examination could focus on how different types of renewable energy sources respond to price fluctuations."
   ]
  },
  {
   "attachments": {},
   "cell_type": "markdown",
   "metadata": {},
   "source": [
    "# 9. Literature\n",
    "\n",
    "“Bestuurlijke Grenzen.” Service.pdok.nl, service.pdok.nl/kadaster/bestuurlijkegrenzen/atom/v1_0/bestuurlijke_grenzen.xml. Accessed 10 Nov. 2023.\n",
    "\n",
    "“Boundary, Netherlands, 2015 in EarthWorks.” Earthworks.stanford.edu, earthworks.stanford.edu/catalog/stanford-gp502yc4422. Accessed 10 Nov. 2023.\n",
    "\n",
    "“CBS Statline.” Opendata.cbs.nl, opendata.cbs.nl/statline/#/CBS/nl/dataset/81309NED/table?fromstatweb.\n",
    "\n",
    "Hämäläinen, Raimo P., et al. \"Cooperative consumers in a deregulated electricity market—dynamic consumption strategies and price coordination.\" Energy 25.9 (2000): 857-875.\n",
    "\n",
    "“Klimaatmonitor.” Klimaatmonitor.databank.nl, klimaatmonitor.databank.nl/Jive/. Accessed 10 Nov. 2023.\n",
    "\n",
    "RAMAZANOV, Ibragim A., et al. \"Perception of price fluctuations in the context of consumption traditions and consumer expectations amid globalization of markets.\" Revista Espacios 39.48 (2018).\n",
    "\n",
    "\n",
    "Rapportage Hernieuwbare energie. (2023). https://klimaatmonitor.databank.nl/content/hernieuwbare-energie#:~:text=Het%20gaat%20om%20energie%20uit,kernenergie%20zijn%20geen%20hernieuwbare%20energie\n",
    "\n",
    "Rassenti, Stephen J., Vernon L. Smith, and Bart J. Wilson. \"Discriminatory price auctions in electricity markets: low volatility at the expense of high price levels.\" Journal of regulatory Economics 23 (2003): 109-123."
   ]
  }
 ],
 "metadata": {
  "kernelspec": {
   "display_name": "Python 3 (ipykernel)",
   "language": "python",
   "name": "python3"
  },
  "language_info": {
   "codemirror_mode": {
    "name": "ipython",
    "version": 3
   },
   "file_extension": ".py",
   "mimetype": "text/x-python",
   "name": "python",
   "nbconvert_exporter": "python",
   "pygments_lexer": "ipython3",
   "version": "3.11.5"
  },
  "vscode": {
   "interpreter": {
    "hash": "d3d338b7fb9c886030ebbbe803d7f6b1aa32e3dde6a6cb8a2233600fe72de6a3"
   }
  }
 },
 "nbformat": 4,
 "nbformat_minor": 2
}
