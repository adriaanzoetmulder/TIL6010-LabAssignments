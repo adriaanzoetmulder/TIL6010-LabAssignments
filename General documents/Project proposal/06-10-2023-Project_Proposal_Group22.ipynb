{
 "cells": [
  {
   "cell_type": "markdown",
   "metadata": {},
   "source": [
    "# Project Group 22  \n",
    "\n",
    "<br>\n",
    "\n",
    "<div style=\"float: left; margin-right: 20px;\">\n",
    "    \n",
    "| Members               | Student Numbers |\n",
    "|-----------------------|-----------------|\n",
    "| Leander Barendse      | 4965051         |\n",
    "| Bram Hendriksz        | 6092543         |\n",
    "| Naut Smeets           | 5143632         |\n",
    "| Maaike van Schaick    | 5178401         |\n",
    "| Adriaan Zoetmulder    | 6079946         |\n",
    "\n",
    "</div>\n",
    "\n"
   ]
  },
  {
   "cell_type": "markdown",
   "metadata": {},
   "source": [
    "# 1. Research Objective\n",
    "\n",
    "*Research objtective Requires data modeling and quantitative research in Transport, Infrastructure & Logistics*  \n",
    "\n",
    "**Research Objective:** How is the volume of gas extraction in Groningen related to the frequency, intensity, and spatial distribution of earthquakes in the region?"
   ]
  },
  {
   "cell_type": "markdown",
   "metadata": {},
   "source": [
    "# 2. Data Sources\n",
    "*Provide the data source you need for answering the RQ, provide link to the data where\n",
    "applicable*\n",
    "\n",
    "<br>\n",
    "\n",
    "**Data Sources:**\n",
    "\n",
    "-  Induced earthquakes in the Netherlands from 1986 untill 2023, https://cdn.knmi.nl/knmi/map/page/seismologie/all_induced.csv\n",
    "-  Tectonic earthquakes in the Netherlands from 1986 untill 2023, https://cdn.knmi.nl/knmi/map/page/seismologie/all_tectonic.csv\n",
    "-  Gas extraction Groningen gas fields, https://www.nam.nl/gas-en-olie/gaswinning.html#iframe=L2VtYmVkL2NvbXBvbmVudC8_aWQ9Z2Fzd2lubmluZyN0YWItdGFiLWRvd25sb2Fkcy1jYWIzNTJhMzJmZWY0ZTBiYTU0MmI5ZThhOTRmNTFkMA\n",
    "-  Gas extraction per product location, https://www.nam.nl/gas-en-olie/gaswinning.html#iframe=L2VtYmVkL2NvbXBvbmVudC8_aWQ9Z2Fzd2lubmluZyN0YWItdGFiLWRvd25sb2Fkcy1jYWIzNTJhMzJmZWY0ZTBiYTU0MmI5ZThhOTRmNTFkMA\n",
    "-  Total gas extraction Groningen gas field, https://www.nam.nl/gas-en-olie/gaswinning.html#iframe=L2VtYmVkL2NvbXBvbmVudC8_aWQ9Z2Fzd2lubmluZyN0YWItdGFiLWRvd25sb2Fkcy1jYWIzNTJhMzJmZWY0ZTBiYTU0MmI5ZThhOTRmNTFkMA\n",
    "-  Borehole locations, https://www.nlog.nl/datacenter/brh-overview\n",
    "-  Fields, https://www.nlog.nl/datacenter/field-overview\n",
    "-  Seismic, https://www.nlog.nl/datacenter/smc-lines\n",
    "-  Production figures from wells, https://www.nlog.nl/datacenter/prodfigures/wells\n",
    "-  Production figures from fields, https://www.nlog.nl/datacenter/prodfigures/fields\n",
    "-  Natural gas balance; supply and consumption 1947 to 2023, https://opendata.cbs.nl/statline/#/CBS/nl/dataset/00372/table?ts=1696506113137"
   ]
  },
  {
   "cell_type": "markdown",
   "metadata": {},
   "source": [
    "# 3. Additional Information\n",
    "\n",
    "*Provide information about the time scale and spatial scale you are looking at. Provide the\n",
    "geographical boundary of your study*  \n",
    "\n",
    "<br>\n",
    "\n",
    "**Time Scale:**  2003 - 2023, A timespan of 20 years seems a broad enough timespan, of winning gas in Groningen and earthquakes causing problems. Also this timeframe is represented in all the needed datasets.\n",
    "\n",
    "**Spatial Scale:**  \n",
    "- For gas extraction: Regional scale: Examining the gas extraction activities across the entire province of Groningen.\n",
    "- For earthquakes: Regional scale: Studying earthquake activity across the entire province.\n",
    "**Geographical Boundary:** \n",
    "- For gas extraction:  The administrative boundaries of the province of Groningen, which set the geographic context for our study.\n",
    "- For earthquakes: The geographic extent of the province of Groningen, as it relates to seismic activity."
   ]
  }
 ],
 "metadata": {
  "kernelspec": {
   "display_name": "Python 3",
   "language": "python",
   "name": "python3"
  },
  "language_info": {
   "codemirror_mode": {
    "name": "ipython",
    "version": 3
   },
   "file_extension": ".py",
   "mimetype": "text/x-python",
   "name": "python",
   "nbconvert_exporter": "python",
   "pygments_lexer": "ipython3",
   "version": "3.8.8"
  },
  "vscode": {
   "interpreter": {
    "hash": "31f2aee4e71d21fbe5cf8b01ff0e069b9275f58929596ceb00d14d90e3e16cd6"
   }
  }
 },
 "nbformat": 4,
 "nbformat_minor": 4
}
