{
 "cells": [
  {
   "cell_type": "markdown",
   "metadata": {},
   "source": [
    "# Project Group 22  \n",
    "\n",
    "<br>\n",
    "\n",
    "<div style=\"float: left; margin-right: 20px;\">\n",
    "    \n",
    "| Members               | Student Numbers |\n",
    "|-----------------------|-----------------|\n",
    "| Leander Barendse      | 4965051         |\n",
    "| Bram Hendriksz        | 6092543         |\n",
    "| Naut Smeets           | 5143632         |\n",
    "| Maaike van Schaick    | 5178401         |\n",
    "| Adriaan Zoetmulder    | 6079946         |\n",
    "\n",
    "</div>\n",
    "\n"
   ]
  },
  {
   "cell_type": "markdown",
   "metadata": {},
   "source": [
    "# 1. Research Objective\n",
    "\n",
    "*Research objtective Requires data modeling and quantitative research in Transport, Infrastructure & Logistics*  \n",
    "\n",
    "**Research Objective:** How do variations in energy (electricity, and gas) prices and the use of renewable energy sources influence energy and gas consumption patterns in residential buildings across different municipalities in the Netherlands over time?"
   ]
  },
  {
   "cell_type": "markdown",
   "metadata": {},
   "source": [
    "# 2. Data Sources\n",
    "*Provide the data source you need for answering the RQ, provide link to the data where\n",
    "applicable*\n",
    "\n",
    "<br>\n",
    "\n",
    "**Data Sources:**\n",
    "\n",
    "- This databank provides comprehensive information regarding energy and electricity usage within the Netherlands, including total usage of electricity and gas, use of renewable energy sources: https://klimaatmonitor.databank.nl/Jive/   \n",
    "\n",
    "\n",
    "- Gas and electricity prices: \n",
    "    - https://www.clo.nl/indicatoren/nl055409-energieprijzen-en-wereldolieprijs-#:~:text=De%20consumentenprijsindex%20(CPI)%20energie%20geeft,van%201%2C8%20procent%20ligt.\n",
    "    - https://www.cbs.nl/nl-nl/cijfers/detail/84672NED"
   ]
  },
  {
   "cell_type": "markdown",
   "metadata": {},
   "source": [
    "# 3. Additional Information\n",
    "\n",
    "*Provide information about the time scale and spatial scale you are looking at. Provide the\n",
    "geographical boundary of your study*  \n",
    "\n",
    "<br>\n",
    "\n",
    "**Time Scale:**  2004 - 2022, A timespan of 18 years seems a broad enough timespan. Also this timeframe is represented in all the needed datasets.\n",
    "\n",
    "**Spatial Scale:**  \n",
    "- Focus on residential buildings within the selected municipalities in the Netherlands.\n",
    "**Geographical Boundary:** \n",
    "- The municipalities in Netherlands considering various factors like population density, geographical location."
   ]
  },
  {
   "cell_type": "code",
   "execution_count": null,
   "metadata": {},
   "outputs": [],
   "source": []
  }
 ],
 "metadata": {
  "kernelspec": {
   "display_name": "Python 3 (ipykernel)",
   "language": "python",
   "name": "python3"
  },
  "language_info": {
   "codemirror_mode": {
    "name": "ipython",
    "version": 3
   },
   "file_extension": ".py",
   "mimetype": "text/x-python",
   "name": "python",
   "nbconvert_exporter": "python",
   "pygments_lexer": "ipython3",
   "version": "3.11.5"
  },
  "vscode": {
   "interpreter": {
    "hash": "31f2aee4e71d21fbe5cf8b01ff0e069b9275f58929596ceb00d14d90e3e16cd6"
   }
  }
 },
 "nbformat": 4,
 "nbformat_minor": 4
}
