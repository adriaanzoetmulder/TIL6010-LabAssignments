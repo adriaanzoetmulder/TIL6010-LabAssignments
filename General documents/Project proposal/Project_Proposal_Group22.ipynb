{
 "cells": [
  {
   "cell_type": "markdown",
   "metadata": {},
   "source": [
    "# Project Group 22  \n",
    "\n",
    "<br>\n",
    "\n",
    "<div style=\"float: left; margin-right: 20px;\">\n",
    "    \n",
    "| Members               | Student Numbers |\n",
    "|-----------------------|-----------------|\n",
    "| Leander Barendse      | .......         |\n",
    "| Bram Hendriksz        | 6092543         |\n",
    "| Naut Smeets           | .......         |\n",
    "| Maaike van Schaick    | .......         |\n",
    "| Adriaan Zoetmulder    | .......         |\n",
    "\n",
    "</div>\n",
    "\n"
   ]
  },
  {
   "cell_type": "markdown",
   "metadata": {},
   "source": [
    "# 1. Research Objective\n",
    "\n",
    "*Research objtective Requires data modeling and quantitative research in Transport, Infrastructure & Logistics*  \n",
    "\n",
    "**Research Objective:**"
   ]
  },
  {
   "cell_type": "markdown",
   "metadata": {},
   "source": [
    "# 2. Research Question\n",
    "*RQ should include data processing, quantitative analysis and visualisation. If it's an application\n",
    "project type, it can be a societal problem or an exploratory analysis.\n",
    "Eg: Reveal the relationship between covid and mobility activity patterns in Netherlands is an\n",
    "exploratory RQ*\n",
    "\n",
    "<br>\n",
    "\n",
    "**Research Question:**  \n",
    "How is the volume of gas extraction in Groningen related to the frequency, intensity, and spatial distribution of earthquakes in the region, and what implications does this have on local communities and infrastructure?  "
   ]
  },
  {
   "cell_type": "markdown",
   "metadata": {},
   "source": [
    "# 3. Data Sources\n",
    "*Provide the data source you need for answering the RQ, provide link to the data where\n",
    "applicable*\n",
    "\n",
    "<br>\n",
    "\n",
    "**Data Sources:**\n",
    "\n",
    "-  \n",
    "-  \n",
    "-  \n",
    "-  \n"
   ]
  },
  {
   "cell_type": "markdown",
   "metadata": {},
   "source": [
    "# 4. Additional Information\n",
    "\n",
    "*Provide information about the time scale and spatial scale you are looking at. Provide the\n",
    "geographical boundary of your study*  \n",
    "\n",
    "<br>\n",
    "\n",
    "**Time Scale:**  \n",
    "**Spatial Scale:**  \n",
    "**Geographical Boundary:**\n"
   ]
  },
  {
   "cell_type": "markdown",
   "metadata": {},
   "source": [
    "# Contribution Statement\n",
    "\n",
    "*Be specific. Some of the tasks can be coding (expect everyone to do this), background research, conceptualisation, visualisation, data analysis, data modelling*"
   ]
  },
  {
   "cell_type": "markdown",
   "metadata": {},
   "source": [
    "**Leander Barendse**:\n",
    "\n",
    "**Bram Hendriksz**:\n",
    "\n",
    "**Naut Smeets**:\n",
    "\n",
    "**Maaike van Schaick**:\n",
    "\n",
    "**Adriaan Zoetmulder**:"
   ]
  },
  {
   "cell_type": "markdown",
   "metadata": {},
   "source": [
    "# Data Used"
   ]
  },
  {
   "cell_type": "markdown",
   "metadata": {},
   "source": []
  },
  {
   "cell_type": "markdown",
   "metadata": {},
   "source": [
    "# Data Pipeline"
   ]
  },
  {
   "cell_type": "markdown",
   "metadata": {},
   "source": []
  }
 ],
 "metadata": {
  "kernelspec": {
   "display_name": "Python 3 (ipykernel)",
   "language": "python",
   "name": "python3"
  },
  "language_info": {
   "codemirror_mode": {
    "name": "ipython",
    "version": 3
   },
   "file_extension": ".py",
   "mimetype": "text/x-python",
   "name": "python",
   "nbconvert_exporter": "python",
   "pygments_lexer": "ipython3",
   "version": "3.11.5"
  },
  "vscode": {
   "interpreter": {
    "hash": "31f2aee4e71d21fbe5cf8b01ff0e069b9275f58929596ceb00d14d90e3e16cd6"
   }
  }
 },
 "nbformat": 4,
 "nbformat_minor": 2
}
